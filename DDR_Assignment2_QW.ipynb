{
 "cells": [
  {
   "cell_type": "code",
   "execution_count": 1,
   "id": "03541c75",
   "metadata": {},
   "outputs": [],
   "source": [
    "import requests\n",
    "from bs4 import BeautifulSoup"
   ]
  },
  {
   "cell_type": "markdown",
   "id": "c1db005f",
   "metadata": {},
   "source": [
    "### Question 1: TigerDirect Website"
   ]
  },
  {
   "cell_type": "code",
   "execution_count": 49,
   "id": "f524c1fe",
   "metadata": {},
   "outputs": [
    {
     "data": {
      "text/plain": [
       "<Response [200]>"
      ]
     },
     "execution_count": 49,
     "metadata": {},
     "output_type": "execute_result"
    }
   ],
   "source": [
    "url= \"https://www.tigerdirect.com/applications/SearchTools/item-details.asp?EdpNo=1501390\"\n",
    "page = requests.get(url, headers={\"User-Agent\": \"Mozilla/5.0\"})\n",
    "page"
   ]
  },
  {
   "cell_type": "code",
   "execution_count": 50,
   "id": "8a99a9bc",
   "metadata": {},
   "outputs": [],
   "source": [
    "# Optionally, use print(page) to check if the webpage is successully accessed;\n",
    "# Output \"Response [200]\" means suceessful connection."
   ]
  },
  {
   "cell_type": "code",
   "execution_count": 51,
   "id": "52e816b5",
   "metadata": {},
   "outputs": [],
   "source": [
    "# Create a beautifulsoup object \n",
    "soup = BeautifulSoup(page.text, 'lxml')"
   ]
  },
  {
   "cell_type": "markdown",
   "id": "7b42a59a",
   "metadata": {},
   "source": [
    "### Find and print the list price"
   ]
  },
  {
   "cell_type": "code",
   "execution_count": 52,
   "id": "c5e9b7bf",
   "metadata": {},
   "outputs": [
    {
     "data": {
      "text/plain": [
       "[<span>List price:</span>,\n",
       " <span class=\"sr-only\">$1,399\n",
       "           and 99 cents\n",
       "         </span>,\n",
       " <span><del aria-hidden=\"true\">$1,399.99</del></span>]"
      ]
     },
     "execution_count": 52,
     "metadata": {},
     "output_type": "execute_result"
    }
   ],
   "source": [
    "# Find <span> that immediately follows <p> of class \"list-price\"\n",
    "list_of_contents = soup.select(\"div.pdp-price p.list-price > span\")\n",
    "list_of_contents"
   ]
  },
  {
   "cell_type": "code",
   "execution_count": 53,
   "id": "f7194a0c",
   "metadata": {},
   "outputs": [
    {
     "name": "stdout",
     "output_type": "stream",
     "text": [
      "List price:\n",
      "$1,399\r\n",
      "          and 99 cents\r\n",
      "        \n",
      "$1,399.99\n"
     ]
    }
   ],
   "source": [
    "# Print the HTML content to the screen (almost only text here) of the list price\n",
    "for i in list_of_contents:  \n",
    "    print(i.text)\n",
    "    list_price = i.text # store the list price to a string"
   ]
  },
  {
   "cell_type": "code",
   "execution_count": 54,
   "id": "17676bb8",
   "metadata": {},
   "outputs": [],
   "source": [
    "import re # Use Python's RegEx functionality; import package \"re\""
   ]
  },
  {
   "cell_type": "code",
   "execution_count": 55,
   "id": "0768abd4",
   "metadata": {},
   "outputs": [
    {
     "name": "stdout",
     "output_type": "stream",
     "text": [
      "1399.99\n"
     ]
    }
   ],
   "source": [
    "# Convert and print list price to \"1234.56\" format\n",
    "print(re.sub(\".*[$]([0-9]),([0-9]+[.][0-9]+).*\",\"\\\\1\\\\2\",list_price))"
   ]
  },
  {
   "cell_type": "markdown",
   "id": "000f61d5",
   "metadata": {},
   "source": [
    "### Find and print the current price (1)"
   ]
  },
  {
   "cell_type": "code",
   "execution_count": 56,
   "id": "23d16f64",
   "metadata": {},
   "outputs": [
    {
     "data": {
      "text/plain": [
       "[<span class=\"sr-only\">$1,029\n",
       "           and 99 cents\n",
       "         </span>]"
      ]
     },
     "execution_count": 56,
     "metadata": {},
     "output_type": "execute_result"
    }
   ],
   "source": [
    "# Alternative 1: Find html content that follows a specific path\n",
    "list_of_price = soup.select(\"div.col-sm-12.col-lg-5.pdp-specs-info > div > div.pdp-price > p:nth-child(3) > span.sale-price > span.sr-only\")\n",
    "list_of_price"
   ]
  },
  {
   "cell_type": "code",
   "execution_count": 57,
   "id": "d15c7277",
   "metadata": {},
   "outputs": [
    {
     "name": "stdout",
     "output_type": "stream",
     "text": [
      "$1,029\r\n",
      "          and 99 cents\r\n",
      "        \n"
     ]
    }
   ],
   "source": [
    "# Print current price\n",
    "for i in list_of_price:  \n",
    "    print(i.text)\n",
    "    current_price = i.text # store the current price to a string"
   ]
  },
  {
   "cell_type": "code",
   "execution_count": 58,
   "id": "8ff1c0ac",
   "metadata": {},
   "outputs": [
    {
     "name": "stdout",
     "output_type": "stream",
     "text": [
      "1029.99\r\n",
      "          and 99 cents\r\n",
      "        \n"
     ]
    }
   ],
   "source": [
    "# Convert and print current price to \"1234.56\" format:\n",
    "# Tried a RegEx method which does not work\n",
    "print(re.sub(\"[$]([0-9]),([0-9]+)\",\"\\\\1\\\\2.99\",current_price))"
   ]
  },
  {
   "cell_type": "code",
   "execution_count": 59,
   "id": "2371858d",
   "metadata": {},
   "outputs": [],
   "source": [
    "# Instead, use Compile Regex Pattern to match the first and second line of webpage text\n",
    "pattern1 = re.compile(r'\\$(\\d{1}),(\\d{3})')\n",
    "pattern2 = re.compile(r' {10}and (\\d{2}).*')\n",
    "\n",
    "match1 = pattern1.search(current_price)\n",
    "match2 = pattern2.search(current_price)"
   ]
  },
  {
   "cell_type": "code",
   "execution_count": 60,
   "id": "809adf59",
   "metadata": {},
   "outputs": [
    {
     "data": {
      "text/plain": [
       "['1', '029', '.', '99']"
      ]
     },
     "execution_count": 60,
     "metadata": {},
     "output_type": "execute_result"
    }
   ],
   "source": [
    "# Then, combine the separate parts together to print out current price in the correct format\n",
    "price = [match1.group(1),match1.group(2),'.',match2.group(1)]\n",
    "price"
   ]
  },
  {
   "cell_type": "code",
   "execution_count": 61,
   "id": "94f32c22",
   "metadata": {},
   "outputs": [
    {
     "name": "stdout",
     "output_type": "stream",
     "text": [
      "1029.99\n"
     ]
    }
   ],
   "source": [
    "print(''.join(price))"
   ]
  },
  {
   "cell_type": "markdown",
   "id": "d033212a",
   "metadata": {},
   "source": [
    "### Find and print the current price (2)"
   ]
  },
  {
   "cell_type": "code",
   "execution_count": 62,
   "id": "d058beca",
   "metadata": {},
   "outputs": [
    {
     "data": {
      "text/plain": [
       "[<span class=\"sale-price\"><sup aria-hidden=\"true\">$</sup><span aria-hidden=\"true\">1,029</span><sup aria-hidden=\"true\"><span class=\"priceDecimalMark\">.</span>99<span class=\"priceFlag\"></span></sup><span class=\"sr-only\">$1,029\n",
       "           and 99 cents\n",
       "         </span></span>]"
      ]
     },
     "execution_count": 62,
     "metadata": {},
     "output_type": "execute_result"
    }
   ],
   "source": [
    "# Alternative 2: Find html content that immediately follows <span> of class \"sale-price\"\n",
    "list_of_price_2 = soup.select(\"div.pdp-price > p.final-price> span.sale-price\")\n",
    "list_of_price_2"
   ]
  },
  {
   "cell_type": "code",
   "execution_count": 63,
   "id": "dcd2f9e6",
   "metadata": {},
   "outputs": [
    {
     "name": "stdout",
     "output_type": "stream",
     "text": [
      "$1,029.99$1,029\r\n",
      "          and 99 cents\r\n",
      "        \n"
     ]
    }
   ],
   "source": [
    "# Print current_price_2\n",
    "for i in list_of_price_2:\n",
    "    print(i.text)\n",
    "    string = i.text \n",
    "    current_price_2 = string[0:9] "
   ]
  },
  {
   "cell_type": "code",
   "execution_count": 64,
   "id": "715f53a8",
   "metadata": {},
   "outputs": [
    {
     "name": "stdout",
     "output_type": "stream",
     "text": [
      "1029.99\n"
     ]
    }
   ],
   "source": [
    "# Convert and print current price to \"1234.56\" format; got the same result as Alternative 1\n",
    "print(re.sub(\"[^\\d\\.]\", \"\", current_price_2))"
   ]
  },
  {
   "cell_type": "markdown",
   "id": "f44d2e25",
   "metadata": {},
   "source": [
    "### Question 2: USNews Website"
   ]
  },
  {
   "cell_type": "code",
   "execution_count": 65,
   "id": "2bdd627a",
   "metadata": {},
   "outputs": [],
   "source": [
    "web_url = \"https://www.usnews.com/\"\n",
    "page_usnews = requests.get(web_url, headers={\"User-Agent\": \"Mozilla/5.0\"})"
   ]
  },
  {
   "cell_type": "code",
   "execution_count": 66,
   "id": "07519d0e",
   "metadata": {},
   "outputs": [],
   "source": [
    "soup = BeautifulSoup(page_usnews.text, 'lxml')"
   ]
  },
  {
   "cell_type": "markdown",
   "id": "adb9c306",
   "metadata": {},
   "source": [
    "### Find access to its current \"Top Stories\""
   ]
  },
  {
   "cell_type": "code",
   "execution_count": 67,
   "id": "dff53fd7",
   "metadata": {},
   "outputs": [
    {
     "name": "stdout",
     "output_type": "stream",
     "text": [
      "https://www.usnews.com/news/politics/articles/2023-01-20/mccarthy-biden-agree-to-sit-down-over-debt-ceiling\n",
      "https://www.usnews.com/news/economy/articles/2023-01-20/existing-homes-fall-1-5-in-december-marking-11th-month-of-declines\n"
     ]
    }
   ],
   "source": [
    "# Alternative 1: Find all  elements <div> of the following class...\n",
    "all_links = soup.find_all('div',class_ = 'Box-w0dun1-0 ArmRestTopStories__Part-s0vo7p-1 erkdnc biVKSR')\n",
    "\n",
    "for div in all_links:\n",
    "    links = div.findAll('a')\n",
    "    TopStory1 = links[0]\n",
    "    TopStory2 = links[3]\n",
    "    print(TopStory1.get('href'))\n",
    "    print(TopStory2.get('href'))"
   ]
  },
  {
   "cell_type": "code",
   "execution_count": 68,
   "id": "88755113",
   "metadata": {},
   "outputs": [
    {
     "name": "stdout",
     "output_type": "stream",
     "text": [
      "https://www.usnews.com/news/politics/articles/2023-01-20/mccarthy-biden-agree-to-sit-down-over-debt-ceiling\n",
      "https://www.usnews.com/news/economy/articles/2023-01-20/existing-homes-fall-1-5-in-december-marking-11th-month-of-declines\n"
     ]
    }
   ],
   "source": [
    "# Alternative 2: Find all tags <a> with attribute \"href\" under <h3> tags\n",
    "list_of_contents = soup.select(\"h3 > a[href]\")\n",
    "\n",
    "print(list_of_contents[0]['href']) # we see this is the first top story \n",
    "print(list_of_contents[1]['href']) # we see this is the second top story"
   ]
  },
  {
   "cell_type": "code",
   "execution_count": 69,
   "id": "8003d01f",
   "metadata": {},
   "outputs": [
    {
     "data": {
      "text/plain": [
       "'https://www.usnews.com/news/politics/articles/2023-01-20/mccarthy-biden-agree-to-sit-down-over-debt-ceiling'"
      ]
     },
     "execution_count": 69,
     "metadata": {},
     "output_type": "execute_result"
    }
   ],
   "source": [
    "# Save URL of the first top story to a string\n",
    "first_top_story = list_of_contents[0]['href']\n",
    "first_top_story"
   ]
  },
  {
   "cell_type": "code",
   "execution_count": 70,
   "id": "1238c165",
   "metadata": {},
   "outputs": [
    {
     "data": {
      "text/plain": [
       "'https://www.usnews.com/news/economy/articles/2023-01-20/existing-homes-fall-1-5-in-december-marking-11th-month-of-declines'"
      ]
     },
     "execution_count": 70,
     "metadata": {},
     "output_type": "execute_result"
    }
   ],
   "source": [
    "# Save URL of the second top story to a string\n",
    "second_top_story = list_of_contents[1]['href']\n",
    "second_top_story "
   ]
  },
  {
   "cell_type": "code",
   "execution_count": 71,
   "id": "b007e20d",
   "metadata": {},
   "outputs": [
    {
     "name": "stdout",
     "output_type": "stream",
     "text": [
      "https://www.usnews.com/news/politics/articles/2023-01-20/mccarthy-biden-agree-to-sit-down-over-debt-ceiling\n",
      "https://www.usnews.com/news/economy/articles/2023-01-20/existing-homes-fall-1-5-in-december-marking-11th-month-of-declines\n"
     ]
    }
   ],
   "source": [
    "# Alternative 3: Find <a href> that directly follows a specific path\n",
    "list_of_top_stories = soup.select(\"div.Box-w0dun1-0.ContentBox__Container-sc-1egb8dt-0.iZCosX.lmOexQ.ArmRestTopStories__CollapseBorderContentBox-s0vo7p-2.fTDCpH.ArmRestTopStories__CollapseBorderContentBox-s0vo7p-2.fTDCpH > h3.Heading-sc-1w5xk2o-0.ContentBox__StoryHeading-sc-1egb8dt-3.MRvpF.fqJuKa.story-headline > a[href]\")\n",
    "list_of_top_stories\n",
    "\n",
    "for i in list_of_top_stories:  \n",
    "    print(i['href'])"
   ]
  },
  {
   "cell_type": "markdown",
   "id": "939eb953",
   "metadata": {},
   "source": [
    "### Load webpage of the first/second top story with the above URL"
   ]
  },
  {
   "cell_type": "code",
   "execution_count": 72,
   "id": "7ef11d0a",
   "metadata": {},
   "outputs": [
    {
     "data": {
      "text/plain": [
       "<Response [200]>"
      ]
     },
     "execution_count": 72,
     "metadata": {},
     "output_type": "execute_result"
    }
   ],
   "source": [
    "page1 = requests.get(first_top_story, headers={\"User-Agent\": \"Mozilla/5.0\"})\n",
    "page1"
   ]
  },
  {
   "cell_type": "code",
   "execution_count": 73,
   "id": "d24631bd",
   "metadata": {},
   "outputs": [
    {
     "data": {
      "text/plain": [
       "<Response [200]>"
      ]
     },
     "execution_count": 73,
     "metadata": {},
     "output_type": "execute_result"
    }
   ],
   "source": [
    "page2 = requests.get(second_top_story, headers={\"User-Agent\": \"Mozilla/5.0\"})\n",
    "page2"
   ]
  },
  {
   "cell_type": "code",
   "execution_count": 74,
   "id": "9afa1f33",
   "metadata": {},
   "outputs": [
    {
     "data": {
      "text/plain": [
       "[<h1 class=\"Heading-sc-1w5xk2o-0 iQhOvV\">McCarthy, Biden Agree to Sit Down as Debt Ceiling Crisis Looms</h1>]"
      ]
     },
     "execution_count": 74,
     "metadata": {},
     "output_type": "execute_result"
    }
   ],
   "source": [
    "# Read the header of the first top story\n",
    "soup1 = BeautifulSoup(page1.text, 'lxml')\n",
    "story1 = soup1.select(\"h1\")\n",
    "\n",
    "# Check that \"story1\" gives the \"first header\" of the first top story\n",
    "story1"
   ]
  },
  {
   "cell_type": "code",
   "execution_count": 75,
   "id": "01c86e45",
   "metadata": {},
   "outputs": [
    {
     "name": "stdout",
     "output_type": "stream",
     "text": [
      "McCarthy, Biden Agree to Sit Down as Debt Ceiling Crisis Looms\n"
     ]
    }
   ],
   "source": [
    "# Print the header out in the correct format\n",
    "for i in story1:  \n",
    "    print(i.text)"
   ]
  },
  {
   "cell_type": "code",
   "execution_count": 76,
   "id": "b0f2679e",
   "metadata": {},
   "outputs": [
    {
     "data": {
      "text/plain": [
       "[<h1 class=\"Heading-sc-1w5xk2o-0 iQhOvV\">Existing Homes Fall 1.5% in December, Marking 11th Month of Declines</h1>]"
      ]
     },
     "execution_count": 76,
     "metadata": {},
     "output_type": "execute_result"
    }
   ],
   "source": [
    "# Then, read the header of the second top story\n",
    "soup2 = BeautifulSoup(page2.text, 'lxml')\n",
    "story2 = soup2.select(\"h1\")\n",
    "\n",
    "# Check that \"story2\" gives the \"first header\" of the second top story\n",
    "story2"
   ]
  },
  {
   "cell_type": "code",
   "execution_count": 77,
   "id": "c8a86330",
   "metadata": {},
   "outputs": [
    {
     "name": "stdout",
     "output_type": "stream",
     "text": [
      "Existing Homes Fall 1.5% in December, Marking 11th Month of Declines\n"
     ]
    }
   ],
   "source": [
    "# Print the header out in the correct format\n",
    "for i in story2:  \n",
    "    print(i.text)"
   ]
  },
  {
   "cell_type": "markdown",
   "id": "7be7ccb5",
   "metadata": {},
   "source": [
    "### Read and print the first 3 sentences of the main body in the second top story"
   ]
  },
  {
   "cell_type": "code",
   "execution_count": 78,
   "id": "e53a51da",
   "metadata": {},
   "outputs": [
    {
     "data": {
      "text/plain": [
       "[<div class=\"Raw-slyvem-0 bCYKCn\"><p>Sales of existing homes slid 1.5% in December, somewhat better than expected but the 11th straight month of decline, the National Association of Realtors said on Friday.<br/></p></div>,\n",
       " <div class=\"Raw-slyvem-0 bCYKCn\"><p></p></div>,\n",
       " <div class=\"Raw-slyvem-0 bCYKCn\"><p>The number was better than estimates of a 3.4% drop and brings the annual rate of home sales just a hair above 4 million. Sales are now down 34% from year-ago levels.</p></div>]"
      ]
     },
     "execution_count": 78,
     "metadata": {},
     "output_type": "execute_result"
    }
   ],
   "source": [
    "# Alternative 1: Find all content that immediately follows <div> of class \"Raw-slyvem-0 bCYKCn\"\n",
    "sentences = soup2.find_all('div',class_ = 'Raw-slyvem-0 bCYKCn')\n",
    "target = sentences[0:3]\n",
    "\n",
    "# Check that \"target\" gives exactly the first 3 sentences\n",
    "target"
   ]
  },
  {
   "cell_type": "code",
   "execution_count": 79,
   "id": "dfc12c4d",
   "metadata": {},
   "outputs": [
    {
     "name": "stdout",
     "output_type": "stream",
     "text": [
      "Sales of existing homes slid 1.5% in December, somewhat better than expected but the 11th straight month of decline, the National Association of Realtors said on Friday.\n",
      "\n",
      "\n",
      "\n",
      "The number was better than estimates of a 3.4% drop and brings the annual rate of home sales just a hair above 4 million. Sales are now down 34% from year-ago levels.\n",
      "\n"
     ]
    }
   ],
   "source": [
    "# Print the sentences out in the correct format\n",
    "for i in target:\n",
    "    print(i.text+\"\\n\")"
   ]
  },
  {
   "cell_type": "code",
   "execution_count": 80,
   "id": "89d4f5e4",
   "metadata": {},
   "outputs": [],
   "source": [
    "# Alternative 2: Find all content that immediately follows <div> with id=\"ad-in-text-target\"\n",
    "all_content = soup2.select(\"div#ad-in-text-target\")"
   ]
  },
  {
   "cell_type": "code",
   "execution_count": 81,
   "id": "f30764a6",
   "metadata": {},
   "outputs": [
    {
     "name": "stdout",
     "output_type": "stream",
     "text": [
      "Sales of existing homes slid 1.5% in December, somewhat better than expected but the 11th straight month of decline, the National Association of Realtors said on Friday.\n",
      "\n",
      "The number was better than estimates of a 3.4% drop and brings the annual rate of home sales just a hair above 4 million. Sales are now down 34% from year-ago levels.\n"
     ]
    }
   ],
   "source": [
    "# Print the first 3 sentences of the main body\n",
    "for div in all_content:\n",
    "    main_body = div.findAll('p')\n",
    "    print(main_body[0].text+\"\\n\")\n",
    "    print(main_body[3].text)"
   ]
  },
  {
   "cell_type": "code",
   "execution_count": 82,
   "id": "d87e4b03",
   "metadata": {},
   "outputs": [
    {
     "data": {
      "text/plain": [
       "[<p>Sales of existing homes slid 1.5% in December, somewhat better than expected but the 11th straight month of decline, the National Association of Realtors said on Friday.<br/></p>,\n",
       " <p></p>,\n",
       " <p>The number was better than estimates of a 3.4% drop and brings the annual rate of home sales just a hair above 4 million. Sales are now down 34% from year-ago levels.</p>]"
      ]
     },
     "execution_count": 82,
     "metadata": {},
     "output_type": "execute_result"
    }
   ],
   "source": [
    "# Alternative 3: Find <p> that immediately follows <div> of class \"Raw-slyvem-0 bCYKCn\"\n",
    "paragraph = soup2.select('div.Raw-slyvem-0.bCYKCn > p')\n",
    "three  = paragraph[0:3]\n",
    "\n",
    "# Check that \"three\" gives the first 3 sentences in those paragraphs\n",
    "three"
   ]
  },
  {
   "cell_type": "code",
   "execution_count": 83,
   "id": "a5b2fe93",
   "metadata": {},
   "outputs": [
    {
     "name": "stdout",
     "output_type": "stream",
     "text": [
      "Sales of existing homes slid 1.5% in December, somewhat better than expected but the 11th straight month of decline, the National Association of Realtors said on Friday.\n",
      "\n",
      "\n",
      "\n",
      "The number was better than estimates of a 3.4% drop and brings the annual rate of home sales just a hair above 4 million. Sales are now down 34% from year-ago levels.\n",
      "\n"
     ]
    }
   ],
   "source": [
    "# Print the sentences out in the correct format\n",
    "for i in three:\n",
    "    print(i.text+\"\\n\")"
   ]
  }
 ],
 "metadata": {
  "kernelspec": {
   "display_name": "Python 3.10.6 64-bit",
   "language": "python",
   "name": "python3"
  },
  "language_info": {
   "codemirror_mode": {
    "name": "ipython",
    "version": 3
   },
   "file_extension": ".py",
   "mimetype": "text/x-python",
   "name": "python",
   "nbconvert_exporter": "python",
   "pygments_lexer": "ipython3",
   "version": "3.10.6"
  },
  "vscode": {
   "interpreter": {
    "hash": "aee8b7b246df8f9039afb4144a1f6fd8d2ca17a180786b69acc140d282b71a49"
   }
  }
 },
 "nbformat": 4,
 "nbformat_minor": 5
}
